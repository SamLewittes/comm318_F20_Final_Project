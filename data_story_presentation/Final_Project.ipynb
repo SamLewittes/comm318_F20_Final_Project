{
 "cells": [
  {
   "cell_type": "markdown",
   "metadata": {},
   "source": [
    "# Are Fantasy Football Fans Or Experts More Accurate In Their Predictions?\n",
    "### Sam Lewittes"
   ]
  },
  {
   "cell_type": "markdown",
   "metadata": {},
   "source": [
    "Prior to the start of fantasy football season, preparing for your draft can deliver big advantages. Many fans, like myself, spend hours scouring the internet, researching National Football League (NFL) players and teams in an attempt to predict which players will have a great year, and who will be a bust. However, when you are on the clock (the fantasy football draft clock where you only have a few minutes to make your selection) and you aren’t sure which player to pick, should you trust the average pick of the fans, or rankings by experts? Furthermore, who is better at predicting certain positions – experts or fans? Or, is your best strategy just ignore them all and go with your gut? I decided to answer these questions based on data from the past 5 years. In these representations, I looked at the top 25 predicted players from each position, including Quarterbacks (QBs), Running Backs (RBs), Wide Receivers (WRs), and Tight Ends (TEs) based on average fan pick and average expert rankings. In my analysis, the experts used were based on [fantasypros.com](https://www.fantasypros.com/nfl/rankings/ppr-cheatsheets.php), where top experts are selected from a variety of websites and television shows. Furthermore, the actual stats came from [fantasyfootballdatapros.com](https://www.fantasyfootballdatapros.com/csv_files)."
   ]
  },
  {
   "cell_type": "markdown",
   "metadata": {},
   "source": [
    "<img src=\"../data_analysis/intro_photo.png\">"
   ]
  },
  {
   "cell_type": "markdown",
   "metadata": {},
   "source": [
    "Source: [fandraft.com](https://fandraft.com/blog/ideas-for-a-successful-fantasy-football-draft-party)"
   ]
  },
  {
   "cell_type": "markdown",
   "metadata": {},
   "source": [
    "## How different are fans and experts predictions?\n",
    "\n",
    "Over the last 5 years, fans and experts have actually predicted pretty similarly. The average correlation between fan picks and expert picks was about 94%. This means that the average draft pick (ADP) of fans and the expert rankings projected fairly comparable outcomes for NFL players. Both predicted rather similarly by position as well. However, QBs had the highest correlation at 98% while TEs had the lowest at 88%. In the upcoming charts and graphs, we will see that the fans and experts data plots often do not look that different."
   ]
  },
  {
   "cell_type": "markdown",
   "metadata": {},
   "source": [
    "## Is there any accuracy to either fans or experts?\n",
    "\n",
    "If the predictions were perfect, the player projected first (dot furthest on the left in the graphs below) would have the most points, and every successive player (dot) would have proportionally less points than the player before. Obviously, it is not possible to obtain this level or accuracy, but as we can see by the graphs below, the top projected players tend to score more points than the lower predicted players. In both, the average fan predictions graph (left) and average expert predictions (right), there is a negative slope as seen by the blue line. This represents the correlation between how many points the players ended up scoring, and how they were predicted. The correlation represents the accuracy of fans and experts predictions throughout this analysis.\n",
    "\n",
    "In other words, for both fans and experts, the players they thought would be better performers turned out to actually be better. Although these graphs only represent Running Backs in 2019, we will see that trend follows for most years and positions.\n",
    "\n"
   ]
  },
  {
   "cell_type": "markdown",
   "metadata": {},
   "source": [
    "<table><tr>\n",
    "<td> <img src=\"../data_analysis/rb_2019_adp.png\" alt=\"Drawing\" style=\"width: 350px;\"/> </td>\n",
    "<td> <img src=\"../data_analysis/rb_2019_expert.png\" alt=\"Drawing\" style=\"width: 350px;\"/> </td>\n",
    "</tr></table>"
   ]
  },
  {
   "cell_type": "markdown",
   "metadata": {},
   "source": [
    "_Charts by Sam Lewittes_\n",
    "\n",
    "Data Sources: [fantasypros.com](https://www.fantasypros.com/nfl/rankings/ppr-cheatsheets.php) & [fantasyfootballdatapros.com](https://www.fantasyfootballdatapros.com/csv_files)"
   ]
  },
  {
   "cell_type": "markdown",
   "metadata": {},
   "source": [
    "## So who is more accurate?\n",
    "\n",
    "As we determined earlier, fans and experts predicted relatively similar rankings, so it makes sense that they are close together on the graph below. Overall, though, experts are slightly more accurate than fans with an average accuracy of .333 vs .298. The chart below represents these accuracy values by year, with the orange line representing fans and the blue line representing experts. Although there is accuracy for both fans and experts, neither number was particularly high. This is not surprising, however, due to the fact that it is very hard to predict actual results. We can see that in some years there were much better predictions than other years. For example, in 2018, fans and experts were much more accurate in their predictions than in 2015. Interestingly, we have not seen the predictions become increasingly better over time. Specifically, 2019 showed a sharp drop off from 2018. There are multiple factors that can cause these projections to be more or less accurate, which we will explore later.\n"
   ]
  },
  {
   "cell_type": "markdown",
   "metadata": {},
   "source": [
    "<img src=\"../data_analysis/corr_by_year.png\" width = 500>"
   ]
  },
  {
   "cell_type": "markdown",
   "metadata": {},
   "source": [
    "_Chart by Sam Lewittes_\n",
    "\n",
    "Data Sources: [fantasypros.com](https://www.fantasypros.com/nfl/rankings/ppr-cheatsheets.php) & [fantasyfootballdatapros.com](https://www.fantasyfootballdatapros.com/csv_files)"
   ]
  },
  {
   "cell_type": "markdown",
   "metadata": {},
   "source": [
    "## Are fans or experts better at predicting one position over another?\n",
    "\n",
    "In this chart, the length of the bar is representative of how accurate fans and experts were in predicting each position. Furthermore, the green average bar is the average of the fans and experts accuracy levels. All positions have relatively similar accuracy values, but TEs and RBs are higher than QBs and WRs. Experts were better at predicting in all four positions; however, they seem to add more value in certain positions. This may mean that in your fantasy draft, you might want to trust the experts when it comes to TEs but consider their predictions a bit less when it comes to selecting your WRs.\n"
   ]
  },
  {
   "cell_type": "markdown",
   "metadata": {},
   "source": [
    "<img src=\"../data_analysis/correlation_by_position.png\" width = 500>"
   ]
  },
  {
   "cell_type": "markdown",
   "metadata": {},
   "source": [
    "_Chart by Sam Lewittes_\n",
    "\n",
    "Data Sources: [fantasypros.com](https://www.fantasypros.com/nfl/rankings/ppr-cheatsheets.php) & [fantasyfootballdatapros.com](https://www.fantasyfootballdatapros.com/csv_files)"
   ]
  },
  {
   "cell_type": "markdown",
   "metadata": {},
   "source": [
    "## What factors cause projections to be very inaccurate?\n",
    "\n",
    "One big factor in fantasy football that can break your season is player injuries. These are often very hard, if not impossible to predict. In the left graph below, we can see that some of the dots are significantly lower than others, meaning that some players scored close to no points. Three of these players (Ben Roethlisberger, Cam Newton, and Nick Foles) were injured very early into the season. Removing these players from fantasy football changes the correlation between the expert predictions as compared to actual outcome by quite a bit. In the first graph, with the injured players included, the accuracy is .377. However, in the second graph the accuracy is .523. This number is higher than the average for any position across years, for either fans or experts."
   ]
  },
  {
   "cell_type": "markdown",
   "metadata": {},
   "source": [
    "<table><tr>\n",
    "<td> <img src=\"../data_analysis/qb_2019_expert.png\" alt=\"Drawing\" style=\"width: 350px;\"/> </td>\n",
    "<td> <img src=\"../data_analysis/qb_2019_expert_minus_injuries.png\" alt=\"Drawing\" style=\"width: 350px;\"/> </td>\n",
    "</tr></table>"
   ]
  },
  {
   "cell_type": "markdown",
   "metadata": {},
   "source": [
    "_Charts by Sam Lewittes_\n",
    "\n",
    "Data Sources: [fantasypros.com](https://www.fantasypros.com/nfl/rankings/ppr-cheatsheets.php) & [fantasyfootballdatapros.com](https://www.fantasyfootballdatapros.com/csv_files)"
   ]
  },
  {
   "cell_type": "markdown",
   "metadata": {},
   "source": [
    "There are other factors as well that can impact projected predictions. Sometimes players begin their season, do not play well and, as a result, they get benched indefinitely by their coaches. In this scenario, they cannot generate additional points unless they start playing again. Contract holdouts can also take players out for multiple games at the beginning of the season, or sometimes even full seasons. Also, coaches, both new and pre-existing, often switch up the team’s play styles. This can result in a more pass heavy offense, where QBs, WRs, and TEs score more points, or can favor RBs in a run heavy offense. Some of these aspects can be difficult to analyze through data, but experts can look at team and coaching histories to determine how a player will fit into the offense. Whereas the average fan likely would not comb through this information.\n"
   ]
  },
  {
   "cell_type": "markdown",
   "metadata": {},
   "source": [
    "## How often do players have these terrible seasons, or end up doing much better than projected?\n",
    "\n",
    "In my analysis, I let a bust (bad season) be defined as scoring 50% below the mean, and a boom (great season) be defined as 50% above the mean. The graph below represents the percentage of those players out of the total players, by position. We can see that Running Backs and Tight Ends have significantly higher percentages than Wide Receivers and Quarterbacks for both booms and busts."
   ]
  },
  {
   "cell_type": "markdown",
   "metadata": {},
   "source": [
    "<img src=\"../data_analysis/booms_and_busts.png\" width = 500>"
   ]
  },
  {
   "cell_type": "markdown",
   "metadata": {},
   "source": [
    "_Chart by Sam Lewittes_\n",
    "\n",
    "Data Sources: [fantasypros.com](https://www.fantasypros.com/nfl/rankings/ppr-cheatsheets.php) & [fantasyfootballdatapros.com](https://www.fantasyfootballdatapros.com/csv_files)"
   ]
  },
  {
   "cell_type": "markdown",
   "metadata": {},
   "source": [
    "A likely understanding of this is that the top RBs and TEs in the league score much more than the lower ranked players of those positions. Meanwhile, QBs and WRs are more consistent across all players. This is why, in many fantasy drafts, RBs are often drafted first, and the top TEs are also drafted early on. Meanwhile, despite QBs scoring the most average points, they are often selected towards the end. There are almost no QBs who have “boom” seasons, and therefore it does not matter as much strategically which QB you choose. WRs are taken all throughout the draft process as well."
   ]
  },
  {
   "cell_type": "markdown",
   "metadata": {},
   "source": [
    "## Conclusion\n",
    "\n"
   ]
  },
  {
   "cell_type": "markdown",
   "metadata": {},
   "source": [
    "If you are trying to find a foolproof strategy to pick the best fantasy football team each year, one that is sure to win the championship, keep looking. Focusing on expert picks versus fan picks will not get you an appreciable advantage. Looking at predictions of individual player positions also will not necessarily deliver a winning team either. Experts spend a lot of time trying to predict who is going to be great and who isn’t (it’s their job you know) and they do a bit better than fans on predicting individual positions but fans – who don’t spend a lot of time deep diving into performance statistics – also seem to do pretty well at predicting performance. At the end of the day, there is no magic bullet to selecting your fantasy team so you may as well keep researching players as individuals, and ultimately hope for the best.\n"
   ]
  }
 ],
 "metadata": {
  "kernelspec": {
   "display_name": "Python 3",
   "language": "python",
   "name": "python3"
  },
  "language_info": {
   "codemirror_mode": {
    "name": "ipython",
    "version": 3
   },
   "file_extension": ".py",
   "mimetype": "text/x-python",
   "name": "python",
   "nbconvert_exporter": "python",
   "pygments_lexer": "ipython3",
   "version": "3.7.3"
  }
 },
 "nbformat": 4,
 "nbformat_minor": 2
}
