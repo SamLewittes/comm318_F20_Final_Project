{
 "cells": [
  {
   "cell_type": "markdown",
   "metadata": {},
   "source": [
    "# Accuracy Over Time"
   ]
  },
  {
   "cell_type": "markdown",
   "metadata": {},
   "source": [
    "#### Analysis of all years of fantasy football data. Specifically, looks at correlation across years and by position."
   ]
  },
  {
   "cell_type": "markdown",
   "metadata": {},
   "source": [
    "**Question 1:** Were experts or fans better at predicting final season points, and which years had the best predictions?"
   ]
  },
  {
   "cell_type": "markdown",
   "metadata": {},
   "source": [
    "**Steps:**\n",
    "\n",
    "A. Create dataframes of top 25 players by position for all years\n",
    "\n",
    "B. Create dataframes of top 25 players by position for each year\n",
    "\n",
    "C. Find the correlation between FantasyPoints, ExpertRanking and the reranked ADP\n",
    "\n",
    "D. Create a data frame based on these correlations\n",
    "\n",
    "E. Find average correlation for experts and fans over all years\n",
    "\n",
    "E. Plot this data frame in a line chart"
   ]
  },
  {
   "cell_type": "code",
   "execution_count": 1,
   "metadata": {},
   "outputs": [],
   "source": [
    "import pandas as pd\n",
    "from statsmodels.formula.api import ols\n",
    "import seaborn as sns\n",
    "import matplotlib.pyplot as plt\n",
    "\n",
    "import warnings\n",
    "warnings.filterwarnings('ignore')"
   ]
  },
  {
   "cell_type": "code",
   "execution_count": 38,
   "metadata": {},
   "outputs": [],
   "source": [
    "#Reads in data\n",
    "\n",
    "merged_df = pd.read_csv('../data/cleaned/actual_and_projected.csv')"
   ]
  },
  {
   "cell_type": "code",
   "execution_count": 49,
   "metadata": {},
   "outputs": [],
   "source": [
    "#Creates dataframes of top 25 players by position for all years\n",
    "\n",
    "qb_df = merged_df[merged_df[\"Pos\"].str.contains(\"QB\")].sort_values(by=['ADP_rerank']).iloc[:125]\n",
    "rb_df = merged_df[merged_df[\"Pos\"].str.contains(\"RB\")].sort_values(by=['ADP_rerank']).iloc[:125]\n",
    "wr_df = merged_df[merged_df[\"Pos\"].str.contains(\"WR\")].sort_values(by=['ADP_rerank']).iloc[:125]\n",
    "te_df = merged_df[merged_df[\"Pos\"].str.contains(\"TE\")].sort_values(by=['ADP_rerank']).iloc[:125]"
   ]
  },
  {
   "cell_type": "code",
   "execution_count": 54,
   "metadata": {},
   "outputs": [],
   "source": [
    "#Creates dataframes of top 25 players by position for each year\n",
    "\n",
    "merged_2019_df = pd.concat([qb_df[qb_df[\"Year\"] == 2019], rb_df[rb_df[\"Year\"] == 2019], wr_df[wr_df[\"Year\"] == 2019], te_df[te_df[\"Year\"] == 2019]])\n",
    "merged_2018_df = pd.concat([qb_df[qb_df[\"Year\"] == 2018], rb_df[rb_df[\"Year\"] == 2018], wr_df[wr_df[\"Year\"] == 2018], te_df[te_df[\"Year\"] == 2018]])\n",
    "merged_2017_df = pd.concat([qb_df[qb_df[\"Year\"] == 2017], rb_df[rb_df[\"Year\"] == 2017], wr_df[wr_df[\"Year\"] == 2017], te_df[te_df[\"Year\"] == 2017]])\n",
    "merged_2016_df = pd.concat([qb_df[qb_df[\"Year\"] == 2016], rb_df[rb_df[\"Year\"] == 2016], wr_df[wr_df[\"Year\"] == 2016], te_df[te_df[\"Year\"] == 2016]])\n",
    "merged_2015_df = pd.concat([qb_df[qb_df[\"Year\"] == 2015], rb_df[rb_df[\"Year\"] == 2015], wr_df[wr_df[\"Year\"] == 2015], te_df[te_df[\"Year\"] == 2015]])"
   ]
  },
  {
   "cell_type": "code",
   "execution_count": 58,
   "metadata": {},
   "outputs": [],
   "source": [
    "#Determines correlation for each year\n",
    "\n",
    "corr_2019_df = merged_2019_df[['FantasyPoints',\"ExpertRanking\", 'ADP_rerank']].corr().abs()\n",
    "corr_2018_df = merged_2018_df[['FantasyPoints',\"ExpertRanking\", 'ADP_rerank']].corr().abs()\n",
    "corr_2017_df = merged_2017_df[['FantasyPoints',\"ExpertRanking\", 'ADP_rerank']].corr().abs()\n",
    "corr_2016_df = merged_2016_df[['FantasyPoints',\"ExpertRanking\", 'ADP_rerank']].corr().abs()\n",
    "corr_2015_df = merged_2015_df[['FantasyPoints',\"ExpertRanking\", 'ADP_rerank']].corr().abs()"
   ]
  },
  {
   "cell_type": "code",
   "execution_count": 108,
   "metadata": {},
   "outputs": [
    {
     "data": {
      "text/html": [
       "<div>\n",
       "<style scoped>\n",
       "    .dataframe tbody tr th:only-of-type {\n",
       "        vertical-align: middle;\n",
       "    }\n",
       "\n",
       "    .dataframe tbody tr th {\n",
       "        vertical-align: top;\n",
       "    }\n",
       "\n",
       "    .dataframe thead th {\n",
       "        text-align: right;\n",
       "    }\n",
       "</style>\n",
       "<table border=\"1\" class=\"dataframe\">\n",
       "  <thead>\n",
       "    <tr style=\"text-align: right;\">\n",
       "      <th></th>\n",
       "      <th>experts</th>\n",
       "      <th>fans</th>\n",
       "    </tr>\n",
       "  </thead>\n",
       "  <tbody>\n",
       "    <tr>\n",
       "      <th>2015</th>\n",
       "      <td>0.219011</td>\n",
       "      <td>0.134322</td>\n",
       "    </tr>\n",
       "    <tr>\n",
       "      <th>2016</th>\n",
       "      <td>0.379731</td>\n",
       "      <td>0.347275</td>\n",
       "    </tr>\n",
       "    <tr>\n",
       "      <th>2017</th>\n",
       "      <td>0.259755</td>\n",
       "      <td>0.278839</td>\n",
       "    </tr>\n",
       "    <tr>\n",
       "      <th>2018</th>\n",
       "      <td>0.468456</td>\n",
       "      <td>0.472861</td>\n",
       "    </tr>\n",
       "    <tr>\n",
       "      <th>2019</th>\n",
       "      <td>0.340468</td>\n",
       "      <td>0.254866</td>\n",
       "    </tr>\n",
       "  </tbody>\n",
       "</table>\n",
       "</div>"
      ],
      "text/plain": [
       "       experts      fans\n",
       "2015  0.219011  0.134322\n",
       "2016  0.379731  0.347275\n",
       "2017  0.259755  0.278839\n",
       "2018  0.468456  0.472861\n",
       "2019  0.340468  0.254866"
      ]
     },
     "execution_count": 108,
     "metadata": {},
     "output_type": "execute_result"
    }
   ],
   "source": [
    "#Creates dataframe for correlations\n",
    "\n",
    "corr_data_by_year = {'experts':[corr_2015_df[\"ExpertRanking\"][\"FantasyPoints\"], \n",
    "        corr_2016_df[\"ExpertRanking\"][\"FantasyPoints\"], corr_2017_df[\"ExpertRanking\"][\"FantasyPoints\"], \n",
    "        corr_2018_df[\"ExpertRanking\"][\"FantasyPoints\"], corr_2019_df[\"ExpertRanking\"][\"FantasyPoints\"]] ,\n",
    "        'fans': [corr_2015_df[\"ADP_rerank\"][\"FantasyPoints\"], \n",
    "        corr_2016_df[\"ADP_rerank\"][\"FantasyPoints\"], corr_2017_df[\"ADP_rerank\"][\"FantasyPoints\"], \n",
    "        corr_2018_df[\"ADP_rerank\"][\"FantasyPoints\"], corr_2019_df[\"ADP_rerank\"][\"FantasyPoints\"]]}\n",
    "\n",
    "combined_corr_by_year_df = pd.DataFrame(corr_data_by_year, index =['2015', '2016', '2017', '2018', '2019']) \n",
    "combined_corr_by_year_df"
   ]
  },
  {
   "cell_type": "code",
   "execution_count": 110,
   "metadata": {},
   "outputs": [
    {
     "data": {
      "text/plain": [
       "0.33348423094731133"
      ]
     },
     "execution_count": 110,
     "metadata": {},
     "output_type": "execute_result"
    }
   ],
   "source": [
    "#Finds average correlation for experts over all years\n",
    "\n",
    "combined_corr_by_year_df[\"experts\"].sum() / 5"
   ]
  },
  {
   "cell_type": "code",
   "execution_count": 111,
   "metadata": {},
   "outputs": [
    {
     "data": {
      "text/plain": [
       "0.297632477697872"
      ]
     },
     "execution_count": 111,
     "metadata": {},
     "output_type": "execute_result"
    }
   ],
   "source": [
    "#Finds average correlation for fans over all years\n",
    "\n",
    "combined_corr_by_year_df[\"fans\"].sum() / 5"
   ]
  },
  {
   "cell_type": "code",
   "execution_count": 119,
   "metadata": {},
   "outputs": [
    {
     "data": {
      "text/plain": [
       "<AxesSubplot:title={'center':'Accuracy by Year'}, xlabel='Year', ylabel='Accuracy'>"
      ]
     },
     "execution_count": 119,
     "metadata": {},
     "output_type": "execute_result"
    },
    {
     "data": {
      "image/png": "[encoded data removed]",
      "text/plain": [
       "<Figure size 432x288 with 1 Axes>"
      ]
     },
     "metadata": {
      "needs_background": "light"
     },
     "output_type": "display_data"
    }
   ],
   "source": [
    "#Creates line graph\n",
    "\n",
    "combined_corr_by_year_df.plot(kind = \"line\", ylabel = \"Accuracy\", xlabel = \"Year\", title = \"Accuracy by Year\")"
   ]
  },
  {
   "cell_type": "markdown",
   "metadata": {},
   "source": [
    "**Answer:**\n",
    "\n",
    "Experts were slightly better at predicting than fans, with an average correlation of .333 vs .298. 2018 was the best year for both experts and fans, while 2015 was the worst for both."
   ]
  },
  {
   "cell_type": "markdown",
   "metadata": {},
   "source": [
    "**Observations/Interpretations:**\n",
    "\n",
    "It is interesting to see that correlation was very different by year. Furthermore, it is not consistently increasing, and there seems to be better years and worse years."
   ]
  },
  {
   "cell_type": "markdown",
   "metadata": {},
   "source": [
    "**Question 2:** How similar were fans and experts projections?"
   ]
  },
  {
   "cell_type": "markdown",
   "metadata": {},
   "source": [
    "A. Find the correlation between FantasyPoints, ExpertRanking and the reranked ADP\n",
    "\n",
    "B. Create dataframe with correlation between ExpertRanking and ADP_rerank\n",
    "\n",
    "C. Plot this data frame in a bar chart"
   ]
  },
  {
   "cell_type": "code",
   "execution_count": 73,
   "metadata": {},
   "outputs": [],
   "source": [
    "# Finds the correlation between FantasyPoints, ExpertRanking and the reranked ADP\n",
    "\n",
    "qb_corr_df = qb_df[['FantasyPoints',\"ExpertRanking\", 'ADP_rerank']].corr().abs()\n",
    "rb_corr_df = rb_df[['FantasyPoints',\"ExpertRanking\", 'ADP_rerank']].corr().abs()\n",
    "wr_corr_df = wr_df[['FantasyPoints',\"ExpertRanking\", 'ADP_rerank']].corr().abs()\n",
    "te_corr_df = te_df[['FantasyPoints',\"ExpertRanking\", 'ADP_rerank']].corr().abs()"
   ]
  },
  {
   "cell_type": "code",
   "execution_count": 74,
   "metadata": {},
   "outputs": [
    {
     "data": {
      "text/html": [
       "<div>\n",
       "<style scoped>\n",
       "    .dataframe tbody tr th:only-of-type {\n",
       "        vertical-align: middle;\n",
       "    }\n",
       "\n",
       "    .dataframe tbody tr th {\n",
       "        vertical-align: top;\n",
       "    }\n",
       "\n",
       "    .dataframe thead th {\n",
       "        text-align: right;\n",
       "    }\n",
       "</style>\n",
       "<table border=\"1\" class=\"dataframe\">\n",
       "  <thead>\n",
       "    <tr style=\"text-align: right;\">\n",
       "      <th></th>\n",
       "      <th>correlation</th>\n",
       "    </tr>\n",
       "  </thead>\n",
       "  <tbody>\n",
       "    <tr>\n",
       "      <th>QB</th>\n",
       "      <td>0.975408</td>\n",
       "    </tr>\n",
       "    <tr>\n",
       "      <th>RB</th>\n",
       "      <td>0.945341</td>\n",
       "    </tr>\n",
       "    <tr>\n",
       "      <th>WR</th>\n",
       "      <td>0.953280</td>\n",
       "    </tr>\n",
       "    <tr>\n",
       "      <th>TE</th>\n",
       "      <td>0.876487</td>\n",
       "    </tr>\n",
       "  </tbody>\n",
       "</table>\n",
       "</div>"
      ],
      "text/plain": [
       "    correlation\n",
       "QB     0.975408\n",
       "RB     0.945341\n",
       "WR     0.953280\n",
       "TE     0.876487"
      ]
     },
     "execution_count": 74,
     "metadata": {},
     "output_type": "execute_result"
    }
   ],
   "source": [
    "# Creates dataframe with correlation between ExpertRanking and ADP_rerank\n",
    "\n",
    "corr_data_expert_and_fan = {'correlation':[qb_corr_df[\"ExpertRanking\"][\"ADP_rerank\"], \n",
    "        rb_corr_df[\"ExpertRanking\"][\"ADP_rerank\"], wr_corr_df[\"ExpertRanking\"][\"ADP_rerank\"], \n",
    "        te_corr_df[\"ExpertRanking\"][\"ADP_rerank\"]]}\n",
    "\n",
    "combined_corr_expert_and_fan_df = pd.DataFrame(corr_data_expert_and_fan, index =['QB', 'RB', 'WR', 'TE']) \n",
    "combined_corr_expert_and_fan_df"
   ]
  },
  {
   "cell_type": "code",
   "execution_count": 120,
   "metadata": {},
   "outputs": [
    {
     "data": {
      "text/plain": [
       "correlation    0.937629\n",
       "dtype: float64"
      ]
     },
     "execution_count": 120,
     "metadata": {},
     "output_type": "execute_result"
    }
   ],
   "source": [
    "combined_corr_expert_and_fan_df.mean()"
   ]
  },
  {
   "cell_type": "code",
   "execution_count": 103,
   "metadata": {},
   "outputs": [
    {
     "data": {
      "text/plain": [
       "<AxesSubplot:title={'center':'Average Correlation by Position Between Expert and Fan Picks'}, xlabel='Position', ylabel='Correlation'>"
      ]
     },
     "execution_count": 103,
     "metadata": {},
     "output_type": "execute_result"
    },
    {
     "data": {
      "image/png": "[encoded data removed]",
      "text/plain": [
       "<Figure size 432x288 with 1 Axes>"
      ]
     },
     "metadata": {
      "needs_background": "light"
     },
     "output_type": "display_data"
    }
   ],
   "source": [
    "#Plots in bar chart\n",
    "\n",
    "combined_corr_expert_and_fan_df.plot(kind = \"bar\", ylabel = \"Correlation\", xlabel = \"Position\", title = \"Average Correlation by Position Between Expert and Fan Picks\")"
   ]
  },
  {
   "cell_type": "markdown",
   "metadata": {},
   "source": [
    "**Answer:**\n",
    "\n",
    "Experts and fans had very similar predictions for all positions. QBs were the highest while TEs were the lowest."
   ]
  },
  {
   "cell_type": "markdown",
   "metadata": {},
   "source": [
    "**Observations/Interpretations:**\n",
    "\n",
    "I expected them to be similar, but was surprised at how high the correlations were. I also would have thought that RBs would have been the highest as they are usually drafted faster than other positions."
   ]
  },
  {
   "cell_type": "markdown",
   "metadata": {},
   "source": [
    "**Question 3:** Which positions had the highest accuracy predictions for all years?"
   ]
  },
  {
   "cell_type": "markdown",
   "metadata": {},
   "source": [
    "A. Create dataframe for correlations\n",
    "\n",
    "B. Find average correlation from both fans and experts\n",
    "\n",
    "C. Input average into data frame\n",
    "\n",
    "D. Plot this data frame in a bar chart"
   ]
  },
  {
   "cell_type": "code",
   "execution_count": 115,
   "metadata": {},
   "outputs": [
    {
     "data": {
      "text/html": [
       "<div>\n",
       "<style scoped>\n",
       "    .dataframe tbody tr th:only-of-type {\n",
       "        vertical-align: middle;\n",
       "    }\n",
       "\n",
       "    .dataframe tbody tr th {\n",
       "        vertical-align: top;\n",
       "    }\n",
       "\n",
       "    .dataframe thead th {\n",
       "        text-align: right;\n",
       "    }\n",
       "</style>\n",
       "<table border=\"1\" class=\"dataframe\">\n",
       "  <thead>\n",
       "    <tr style=\"text-align: right;\">\n",
       "      <th></th>\n",
       "      <th>experts</th>\n",
       "      <th>fans</th>\n",
       "    </tr>\n",
       "  </thead>\n",
       "  <tbody>\n",
       "    <tr>\n",
       "      <th>QB</th>\n",
       "      <td>0.341788</td>\n",
       "      <td>0.312715</td>\n",
       "    </tr>\n",
       "    <tr>\n",
       "      <th>RB</th>\n",
       "      <td>0.410844</td>\n",
       "      <td>0.368179</td>\n",
       "    </tr>\n",
       "    <tr>\n",
       "      <th>WR</th>\n",
       "      <td>0.330299</td>\n",
       "      <td>0.315708</td>\n",
       "    </tr>\n",
       "    <tr>\n",
       "      <th>TE</th>\n",
       "      <td>0.422816</td>\n",
       "      <td>0.368507</td>\n",
       "    </tr>\n",
       "  </tbody>\n",
       "</table>\n",
       "</div>"
      ],
      "text/plain": [
       "     experts      fans\n",
       "QB  0.341788  0.312715\n",
       "RB  0.410844  0.368179\n",
       "WR  0.330299  0.315708\n",
       "TE  0.422816  0.368507"
      ]
     },
     "execution_count": 115,
     "metadata": {},
     "output_type": "execute_result"
    }
   ],
   "source": [
    "#Creates dataframe for correlations\n",
    "\n",
    "corr_data = {'experts':[qb_corr_df[\"ExpertRanking\"][\"FantasyPoints\"], \n",
    "        rb_corr_df[\"ExpertRanking\"][\"FantasyPoints\"], wr_corr_df[\"ExpertRanking\"][\"FantasyPoints\"], \n",
    "        te_corr_df[\"ExpertRanking\"][\"FantasyPoints\"]] , 'fans': [qb_corr_df[\"ADP_rerank\"][\"FantasyPoints\"], \n",
    "        rb_corr_df[\"ADP_rerank\"][\"FantasyPoints\"], wr_corr_df[\"ADP_rerank\"][\"FantasyPoints\"], \n",
    "        te_corr_df[\"ADP_rerank\"][\"FantasyPoints\"]]}\n",
    "\n",
    "combined_corr_df = pd.DataFrame(corr_data, index =['QB', 'RB', 'WR', 'TE']) \n",
    "combined_corr_df"
   ]
  },
  {
   "cell_type": "code",
   "execution_count": 116,
   "metadata": {},
   "outputs": [],
   "source": [
    "#Find average correlation from both fans and experts\n",
    "average_correlation = (combined_corr_df[\"experts\"] + combined_corr_df[\"fans\"]) / 2.0"
   ]
  },
  {
   "cell_type": "code",
   "execution_count": 117,
   "metadata": {},
   "outputs": [],
   "source": [
    "#Input into data frame\n",
    "\n",
    "combined_corr_df[\"average\"] = average_correlation"
   ]
  },
  {
   "cell_type": "code",
   "execution_count": 118,
   "metadata": {},
   "outputs": [
    {
     "data": {
      "text/plain": [
       "<matplotlib.legend.Legend at 0x7f218f4c8198>"
      ]
     },
     "execution_count": 118,
     "metadata": {},
     "output_type": "execute_result"
    },
    {
     "data": {
      "image/png": "[encoded data removed]",
      "text/plain": [
       "<Figure size 432x288 with 1 Axes>"
      ]
     },
     "metadata": {
      "needs_background": "light"
     },
     "output_type": "display_data"
    }
   ],
   "source": [
    "#Plot in bar chart\n",
    "\n",
    "combined_corr_df.plot(kind = \"bar\", ylabel = \"Accuracy\", xlabel = \"Position\", title = \"Accuracy by Position\")\n",
    "plt.legend(loc = 4)"
   ]
  },
  {
   "cell_type": "markdown",
   "metadata": {},
   "source": [
    "**Answer:**\n",
    "\n",
    "The average correlation was highest for RBs and TEs, and lowest for QBs and WRs. Experts had better accuracy for every position."
   ]
  },
  {
   "cell_type": "markdown",
   "metadata": {},
   "source": [
    "**Observations/Interpretations:**\n",
    "\n",
    "Based on previous observations, it is not surprising that experts had a higher correlation value for all positions. I did expect the average correlations to be about the same for each position, but this was not the case."
   ]
  }
 ],
 "metadata": {
  "kernelspec": {
   "display_name": "Python 3",
   "language": "python",
   "name": "python3"
  },
  "language_info": {
   "codemirror_mode": {
    "name": "ipython",
    "version": 3
   },
   "file_extension": ".py",
   "mimetype": "text/x-python",
   "name": "python",
   "nbconvert_exporter": "python",
   "pygments_lexer": "ipython3",
   "version": "3.7.3"
  }
 },
 "nbformat": 4,
 "nbformat_minor": 2
}
