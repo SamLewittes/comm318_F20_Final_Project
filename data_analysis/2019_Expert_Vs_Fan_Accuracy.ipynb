{
 "cells": [
  {
   "cell_type": "markdown",
   "metadata": {},
   "source": [
    "# 2019 Expert Vs Fan Accuracy\n",
    "\n"
   ]
  },
  {
   "cell_type": "markdown",
   "metadata": {},
   "source": [
    "#### Analysis of 2019 data including determining whether experts or fans were more accurate, position breakdowns, and booms and busts."
   ]
  },
  {
   "cell_type": "markdown",
   "metadata": {},
   "source": [
    "\n",
    "**Question 1:** In the 2019 Fantasy Football Season, were experts or fans better at predicting final season points?"
   ]
  },
  {
   "cell_type": "markdown",
   "metadata": {},
   "source": [
    "**Steps:**\n",
    "\n",
    "A. Create data frames by position of the top 25 predicted players\n",
    "\n",
    "B. View scatter plot of expert vs fan\n",
    "\n",
    "C. Find the correlation between FantasyPoints, ExpertRanking and the reranked ADP\n",
    "\n",
    "D. Create a data frame based on these correlations\n",
    "\n",
    "E. Plot this data frame in a bar chart"
   ]
  },
  {
   "cell_type": "code",
   "execution_count": 1,
   "metadata": {},
   "outputs": [],
   "source": [
    "import pandas as pd\n",
    "from statsmodels.formula.api import ols\n",
    "import seaborn as sns\n",
    "import matplotlib.pyplot as plt\n",
    "\n",
    "import warnings\n",
    "warnings.filterwarnings('ignore')"
   ]
  },
  {
   "cell_type": "code",
   "execution_count": 2,
   "metadata": {},
   "outputs": [],
   "source": [
    "#Reads in data\n",
    "\n",
    "merged_2019_df = pd.read_csv('../data/cleaned/actual_and_projected_2019.csv')"
   ]
  },
  {
   "cell_type": "code",
   "execution_count": 3,
   "metadata": {},
   "outputs": [],
   "source": [
    "#Creates dataframes by position of the top 25 predicted players\n",
    "\n",
    "wr_2019_df = merged_2019_df[merged_2019_df[\"Pos\"].str.contains(\"WR\")].sort_values(by=['ADP_rerank']).iloc[:25]\n",
    "rb_2019_df = merged_2019_df[merged_2019_df[\"Pos\"].str.contains(\"RB\")].sort_values(by=['ADP_rerank']).iloc[:25]\n",
    "qb_2019_df = merged_2019_df[merged_2019_df[\"Pos\"].str.contains(\"QB\")].sort_values(by=['ADP_rerank']).iloc[:25]\n",
    "te_2019_df = merged_2019_df[merged_2019_df[\"Pos\"].str.contains(\"TE\")].sort_values(by=['ADP_rerank']).iloc[:25]"
   ]
  },
  {
   "cell_type": "code",
   "execution_count": 4,
   "metadata": {},
   "outputs": [
    {
     "data": {
      "text/html": [
       "<div>\n",
       "<style scoped>\n",
       "    .dataframe tbody tr th:only-of-type {\n",
       "        vertical-align: middle;\n",
       "    }\n",
       "\n",
       "    .dataframe tbody tr th {\n",
       "        vertical-align: top;\n",
       "    }\n",
       "\n",
       "    .dataframe thead th {\n",
       "        text-align: right;\n",
       "    }\n",
       "</style>\n",
       "<table border=\"1\" class=\"dataframe\">\n",
       "  <thead>\n",
       "    <tr style=\"text-align: right;\">\n",
       "      <th></th>\n",
       "      <th>Player</th>\n",
       "      <th>ExpertRanking</th>\n",
       "      <th>ADP</th>\n",
       "      <th>Pos</th>\n",
       "      <th>FantasyPoints</th>\n",
       "      <th>ADP_rerank</th>\n",
       "    </tr>\n",
       "  </thead>\n",
       "  <tbody>\n",
       "    <tr>\n",
       "      <th>13</th>\n",
       "      <td>Travis Kelce</td>\n",
       "      <td>1</td>\n",
       "      <td>20.0</td>\n",
       "      <td>TE</td>\n",
       "      <td>254.3</td>\n",
       "      <td>1</td>\n",
       "    </tr>\n",
       "    <tr>\n",
       "      <th>34</th>\n",
       "      <td>Zach Ertz</td>\n",
       "      <td>3</td>\n",
       "      <td>29.0</td>\n",
       "      <td>TE</td>\n",
       "      <td>213.6</td>\n",
       "      <td>2</td>\n",
       "    </tr>\n",
       "    <tr>\n",
       "      <th>30</th>\n",
       "      <td>George Kittle</td>\n",
       "      <td>2</td>\n",
       "      <td>31.0</td>\n",
       "      <td>TE</td>\n",
       "      <td>222.5</td>\n",
       "      <td>3</td>\n",
       "    </tr>\n",
       "    <tr>\n",
       "      <th>48</th>\n",
       "      <td>O.J. Howard</td>\n",
       "      <td>4</td>\n",
       "      <td>55.0</td>\n",
       "      <td>TE</td>\n",
       "      <td>83.9</td>\n",
       "      <td>4</td>\n",
       "    </tr>\n",
       "    <tr>\n",
       "      <th>54</th>\n",
       "      <td>Evan Engram</td>\n",
       "      <td>5</td>\n",
       "      <td>61.0</td>\n",
       "      <td>TE</td>\n",
       "      <td>109.4</td>\n",
       "      <td>5</td>\n",
       "    </tr>\n",
       "  </tbody>\n",
       "</table>\n",
       "</div>"
      ],
      "text/plain": [
       "           Player  ExpertRanking   ADP Pos  FantasyPoints  ADP_rerank\n",
       "13   Travis Kelce              1  20.0  TE          254.3           1\n",
       "34      Zach Ertz              3  29.0  TE          213.6           2\n",
       "30  George Kittle              2  31.0  TE          222.5           3\n",
       "48    O.J. Howard              4  55.0  TE           83.9           4\n",
       "54    Evan Engram              5  61.0  TE          109.4           5"
      ]
     },
     "execution_count": 4,
     "metadata": {},
     "output_type": "execute_result"
    }
   ],
   "source": [
    "te_2019_df.head()"
   ]
  },
  {
   "cell_type": "code",
   "execution_count": 5,
   "metadata": {},
   "outputs": [
    {
     "data": {
      "text/plain": [
       "<seaborn.axisgrid.FacetGrid at 0x7fe4867d08d0>"
      ]
     },
     "execution_count": 5,
     "metadata": {},
     "output_type": "execute_result"
    },
    {
     "data": {
      "image/png": "[encoded data removed]",
      "text/plain": [
       "<Figure size 360x360 with 1 Axes>"
      ]
     },
     "metadata": {
      "needs_background": "light"
     },
     "output_type": "display_data"
    }
   ],
   "source": [
    "ax = sns.lmplot(x = 'ADP_rerank', y = \"FantasyPoints\", data = rb_2019_df)\n",
    "ax.set(xlabel='Fan Predicted Draft Rank', ylabel='Overall Points', title = \"2019 Running Back Fan Projected Vs Actual\")"
   ]
  },
  {
   "cell_type": "code",
   "execution_count": 6,
   "metadata": {},
   "outputs": [
    {
     "data": {
      "text/plain": [
       "<seaborn.axisgrid.FacetGrid at 0x7fe47defed30>"
      ]
     },
     "execution_count": 6,
     "metadata": {},
     "output_type": "execute_result"
    },
    {
     "data": {
      "image/png": "[encoded data removed]",
      "text/plain": [
       "<Figure size 360x360 with 1 Axes>"
      ]
     },
     "metadata": {
      "needs_background": "light"
     },
     "output_type": "display_data"
    }
   ],
   "source": [
    "ax = sns.lmplot(x = 'ExpertRanking', y = \"FantasyPoints\", data = rb_2019_df)\n",
    "ax.set(xlabel='Expert Predicted Draft Rank', ylabel='Overall Points', title = \"2019 Running Back Expert Projected Vs Actual\")"
   ]
  },
  {
   "cell_type": "code",
   "execution_count": 7,
   "metadata": {},
   "outputs": [],
   "source": [
    "#Correlate FantasyPoints, ExpertRanking and the reranked ADP\n",
    "\n",
    "qb_corr_2019_df = qb_2019_df[['FantasyPoints',\"ExpertRanking\", 'ADP_rerank']].corr().abs()\n",
    "rb_corr_2019_df = rb_2019_df[['FantasyPoints',\"ExpertRanking\", 'ADP_rerank']].corr().abs()\n",
    "wr_corr_2019_df = wr_2019_df[['FantasyPoints',\"ExpertRanking\", 'ADP_rerank']].corr().abs()\n",
    "te_corr_2019_df = te_2019_df[['FantasyPoints',\"ExpertRanking\", 'ADP_rerank']].corr().abs()"
   ]
  },
  {
   "cell_type": "code",
   "execution_count": 8,
   "metadata": {},
   "outputs": [
    {
     "data": {
      "text/html": [
       "<div>\n",
       "<style scoped>\n",
       "    .dataframe tbody tr th:only-of-type {\n",
       "        vertical-align: middle;\n",
       "    }\n",
       "\n",
       "    .dataframe tbody tr th {\n",
       "        vertical-align: top;\n",
       "    }\n",
       "\n",
       "    .dataframe thead th {\n",
       "        text-align: right;\n",
       "    }\n",
       "</style>\n",
       "<table border=\"1\" class=\"dataframe\">\n",
       "  <thead>\n",
       "    <tr style=\"text-align: right;\">\n",
       "      <th></th>\n",
       "      <th>expert_correlation</th>\n",
       "      <th>fan_correlation</th>\n",
       "    </tr>\n",
       "  </thead>\n",
       "  <tbody>\n",
       "    <tr>\n",
       "      <th>QB</th>\n",
       "      <td>0.377159</td>\n",
       "      <td>0.311206</td>\n",
       "    </tr>\n",
       "    <tr>\n",
       "      <th>RB</th>\n",
       "      <td>0.422486</td>\n",
       "      <td>0.368580</td>\n",
       "    </tr>\n",
       "    <tr>\n",
       "      <th>WR</th>\n",
       "      <td>0.421757</td>\n",
       "      <td>0.228291</td>\n",
       "    </tr>\n",
       "    <tr>\n",
       "      <th>TE</th>\n",
       "      <td>0.235240</td>\n",
       "      <td>0.239627</td>\n",
       "    </tr>\n",
       "  </tbody>\n",
       "</table>\n",
       "</div>"
      ],
      "text/plain": [
       "    expert_correlation  fan_correlation\n",
       "QB            0.377159         0.311206\n",
       "RB            0.422486         0.368580\n",
       "WR            0.421757         0.228291\n",
       "TE            0.235240         0.239627"
      ]
     },
     "execution_count": 8,
     "metadata": {},
     "output_type": "execute_result"
    }
   ],
   "source": [
    "#Creates dataframe for correlations\n",
    "\n",
    "corr_2019_data = {'expert_correlation':[qb_corr_2019_df[\"ExpertRanking\"][\"FantasyPoints\"], \n",
    "        rb_corr_2019_df[\"ExpertRanking\"][\"FantasyPoints\"], wr_corr_2019_df[\"ExpertRanking\"][\"FantasyPoints\"], \n",
    "        te_corr_2019_df[\"ExpertRanking\"][\"FantasyPoints\"]] , 'fan_correlation': [qb_corr_2019_df[\"ADP_rerank\"][\"FantasyPoints\"], \n",
    "        rb_corr_2019_df[\"ADP_rerank\"][\"FantasyPoints\"], wr_corr_2019_df[\"ADP_rerank\"][\"FantasyPoints\"], \n",
    "        te_corr_2019_df[\"ADP_rerank\"][\"FantasyPoints\"]]}\n",
    "\n",
    "combined_corr_2019_df = pd.DataFrame(corr_2019_data, index =['QB', 'RB', 'WR', 'TE']) \n",
    "combined_corr_2019_df"
   ]
  },
  {
   "cell_type": "code",
   "execution_count": 9,
   "metadata": {},
   "outputs": [
    {
     "data": {
      "text/plain": [
       "<AxesSubplot:title={'center':'Correlation by Position for 2019'}, xlabel='Position', ylabel='Correlation'>"
      ]
     },
     "execution_count": 9,
     "metadata": {},
     "output_type": "execute_result"
    },
    {
     "data": {
      "image/png": "[encoded data removed]",
      "text/plain": [
       "<Figure size 432x288 with 1 Axes>"
      ]
     },
     "metadata": {
      "needs_background": "light"
     },
     "output_type": "display_data"
    }
   ],
   "source": [
    "combined_corr_2019_df.plot(kind = \"bar\", ylabel = \"Correlation\", xlabel = \"Position\", title = \"Correlation by Position for 2019\")"
   ]
  },
  {
   "cell_type": "markdown",
   "metadata": {},
   "source": [
    "**Answer:**\n",
    "\n",
    "In the 2019 Fantasy Football year, experts were slightly better at predicting points for quarterbacks and running back and significantly better at predicting wide receivers. However, fans and experts had very similar prediction success for tight ends."
   ]
  },
  {
   "cell_type": "markdown",
   "metadata": {},
   "source": [
    "**Observations/Interpretations:**\n",
    "\n",
    "It is interesting to see that correlation was much higher for the QB, RB, and WR positions. If this holds up in earlier years, this would imply that following the experts and fans recommendation for a TE is not as necessary. "
   ]
  },
  {
   "cell_type": "markdown",
   "metadata": {},
   "source": [
    "**Question 2:**\n",
    "\n",
    "What position were fans and experts best at predicting?"
   ]
  },
  {
   "cell_type": "markdown",
   "metadata": {},
   "source": [
    "**Steps:**\n",
    "\n",
    "A. Find average correlation from both fans and experts\n",
    "\n",
    "B. Input this into data frame\n",
    "\n",
    "C. Plot this into data frame"
   ]
  },
  {
   "cell_type": "code",
   "execution_count": 10,
   "metadata": {},
   "outputs": [],
   "source": [
    "#Find average correlation from both fans and experts\n",
    "average_correlation = (combined_corr_2019_df[\"expert_correlation\"] + combined_corr_2019_df[\"fan_correlation\"]) / 2.0"
   ]
  },
  {
   "cell_type": "code",
   "execution_count": 11,
   "metadata": {},
   "outputs": [],
   "source": [
    "#Input into data frame\n",
    "\n",
    "combined_corr_2019_df[\"average_correlation\"] = average_correlation"
   ]
  },
  {
   "cell_type": "code",
   "execution_count": 12,
   "metadata": {},
   "outputs": [
    {
     "data": {
      "text/html": [
       "<div>\n",
       "<style scoped>\n",
       "    .dataframe tbody tr th:only-of-type {\n",
       "        vertical-align: middle;\n",
       "    }\n",
       "\n",
       "    .dataframe tbody tr th {\n",
       "        vertical-align: top;\n",
       "    }\n",
       "\n",
       "    .dataframe thead th {\n",
       "        text-align: right;\n",
       "    }\n",
       "</style>\n",
       "<table border=\"1\" class=\"dataframe\">\n",
       "  <thead>\n",
       "    <tr style=\"text-align: right;\">\n",
       "      <th></th>\n",
       "      <th>expert_correlation</th>\n",
       "      <th>fan_correlation</th>\n",
       "      <th>average_correlation</th>\n",
       "    </tr>\n",
       "  </thead>\n",
       "  <tbody>\n",
       "    <tr>\n",
       "      <th>QB</th>\n",
       "      <td>0.377159</td>\n",
       "      <td>0.311206</td>\n",
       "      <td>0.344182</td>\n",
       "    </tr>\n",
       "    <tr>\n",
       "      <th>RB</th>\n",
       "      <td>0.422486</td>\n",
       "      <td>0.368580</td>\n",
       "      <td>0.395533</td>\n",
       "    </tr>\n",
       "    <tr>\n",
       "      <th>WR</th>\n",
       "      <td>0.421757</td>\n",
       "      <td>0.228291</td>\n",
       "      <td>0.325024</td>\n",
       "    </tr>\n",
       "    <tr>\n",
       "      <th>TE</th>\n",
       "      <td>0.235240</td>\n",
       "      <td>0.239627</td>\n",
       "      <td>0.237433</td>\n",
       "    </tr>\n",
       "  </tbody>\n",
       "</table>\n",
       "</div>"
      ],
      "text/plain": [
       "    expert_correlation  fan_correlation  average_correlation\n",
       "QB            0.377159         0.311206             0.344182\n",
       "RB            0.422486         0.368580             0.395533\n",
       "WR            0.421757         0.228291             0.325024\n",
       "TE            0.235240         0.239627             0.237433"
      ]
     },
     "execution_count": 12,
     "metadata": {},
     "output_type": "execute_result"
    }
   ],
   "source": [
    "combined_corr_2019_df"
   ]
  },
  {
   "cell_type": "code",
   "execution_count": 13,
   "metadata": {},
   "outputs": [
    {
     "data": {
      "text/plain": [
       "<AxesSubplot:title={'center':'Average Correlation by Position for 2019'}, xlabel='Position', ylabel='Correlation'>"
      ]
     },
     "execution_count": 13,
     "metadata": {},
     "output_type": "execute_result"
    },
    {
     "data": {
      "image/png": "[encoded data removed]",
      "text/plain": [
       "<Figure size 432x288 with 1 Axes>"
      ]
     },
     "metadata": {
      "needs_background": "light"
     },
     "output_type": "display_data"
    }
   ],
   "source": [
    "combined_corr_2019_df.plot(kind = \"bar\", y = \"average_correlation\", ylabel = \"Correlation\", xlabel = \"Position\", title = \"Average Correlation by Position for 2019\")"
   ]
  },
  {
   "cell_type": "markdown",
   "metadata": {},
   "source": [
    "**Answer:**\n",
    "\n",
    "Experts and fans are best at predicting the running back position, followed by quarterback, wide receiver, and tight end."
   ]
  },
  {
   "cell_type": "markdown",
   "metadata": {},
   "source": [
    "**Observations/Interpretations:**\n",
    "\n",
    "All of the correlations were fairly close with tight ends lagging a bit behind. I could easily see this statistic changing based on the year."
   ]
  },
  {
   "cell_type": "markdown",
   "metadata": {},
   "source": [
    "**Question 3:**\n",
    "\n",
    "How often were players in each position busts (scored significantly less than average)?"
   ]
  },
  {
   "cell_type": "markdown",
   "metadata": {},
   "source": [
    "**Steps:**\n",
    "\n",
    "A. Find average of points of top 25 predicted players in each position\n",
    "\n",
    "B. Count player that scored less than 50% below mean\n",
    "\n",
    "C. Find percentage\n",
    "\n",
    "D. Create data frame for plotting\n",
    "\n",
    "E. Plot this data frame in charts"
   ]
  },
  {
   "cell_type": "code",
   "execution_count": 14,
   "metadata": {},
   "outputs": [],
   "source": [
    "#Finds average of points of top 25 predicted players in each position\n",
    "\n",
    "qb_2019_mean = qb_2019_df[\"FantasyPoints\"].mean()\n",
    "rb_2019_mean = rb_2019_df[\"FantasyPoints\"].mean()\n",
    "wr_2019_mean = wr_2019_df[\"FantasyPoints\"].mean()\n",
    "te_2019_mean = te_2019_df[\"FantasyPoints\"].mean()"
   ]
  },
  {
   "cell_type": "code",
   "execution_count": 15,
   "metadata": {},
   "outputs": [],
   "source": [
    "#Count player that scored less than 1 standard deviation from mean\n",
    "\n",
    "qb_2019_below_mean = float(qb_2019_df[qb_2019_df[\"FantasyPoints\"] <= qb_2019_mean - qb_2019_mean/2].shape[0])\n",
    "rb_2019_below_mean = float(rb_2019_df[rb_2019_df[\"FantasyPoints\"] <= rb_2019_mean - rb_2019_mean/2].shape[0])\n",
    "wr_2019_below_mean = float(wr_2019_df[wr_2019_df[\"FantasyPoints\"] <= wr_2019_mean - wr_2019_mean/2].shape[0])\n",
    "te_2019_below_mean = float(te_2019_df[te_2019_df[\"FantasyPoints\"] <= te_2019_mean - te_2019_mean/2].shape[0])"
   ]
  },
  {
   "cell_type": "code",
   "execution_count": 16,
   "metadata": {},
   "outputs": [],
   "source": [
    "#Finds percentage\n",
    "\n",
    "qb_2019_below_mean_percentage = qb_2019_below_mean / 25.0 * 100\n",
    "rb_2019_below_mean_percentage = rb_2019_below_mean / 25.0 * 100\n",
    "wr_2019_below_mean_percentage = wr_2019_below_mean / 25.0 * 100\n",
    "te_2019_below_mean_percentage = te_2019_below_mean / 25.0 * 100"
   ]
  },
  {
   "cell_type": "code",
   "execution_count": 17,
   "metadata": {},
   "outputs": [
    {
     "data": {
      "text/html": [
       "<div>\n",
       "<style scoped>\n",
       "    .dataframe tbody tr th:only-of-type {\n",
       "        vertical-align: middle;\n",
       "    }\n",
       "\n",
       "    .dataframe tbody tr th {\n",
       "        vertical-align: top;\n",
       "    }\n",
       "\n",
       "    .dataframe thead th {\n",
       "        text-align: right;\n",
       "    }\n",
       "</style>\n",
       "<table border=\"1\" class=\"dataframe\">\n",
       "  <thead>\n",
       "    <tr style=\"text-align: right;\">\n",
       "      <th></th>\n",
       "      <th>bust_percentage</th>\n",
       "    </tr>\n",
       "  </thead>\n",
       "  <tbody>\n",
       "    <tr>\n",
       "      <th>QB</th>\n",
       "      <td>16.0</td>\n",
       "    </tr>\n",
       "    <tr>\n",
       "      <th>RB</th>\n",
       "      <td>4.0</td>\n",
       "    </tr>\n",
       "    <tr>\n",
       "      <th>WR</th>\n",
       "      <td>8.0</td>\n",
       "    </tr>\n",
       "    <tr>\n",
       "      <th>TE</th>\n",
       "      <td>12.0</td>\n",
       "    </tr>\n",
       "  </tbody>\n",
       "</table>\n",
       "</div>"
      ],
      "text/plain": [
       "    bust_percentage\n",
       "QB             16.0\n",
       "RB              4.0\n",
       "WR              8.0\n",
       "TE             12.0"
      ]
     },
     "execution_count": 17,
     "metadata": {},
     "output_type": "execute_result"
    }
   ],
   "source": [
    "#Creates data frame for plotting\n",
    "\n",
    "compare_to_average_2019_df = pd.DataFrame({\"bust_percentage\": [qb_2019_below_mean_percentage, rb_2019_below_mean_percentage\n",
    "                                                 , wr_2019_below_mean_percentage, te_2019_below_mean_percentage]}\n",
    "                                                 , index =['QB', 'RB', 'WR', 'TE']) \n",
    "compare_to_average_2019_df"
   ]
  },
  {
   "cell_type": "code",
   "execution_count": 18,
   "metadata": {},
   "outputs": [
    {
     "data": {
      "text/plain": [
       "<AxesSubplot:title={'center':'Amount of Busts by Position for 2019'}, xlabel='Position', ylabel='Bust Percentage'>"
      ]
     },
     "execution_count": 18,
     "metadata": {},
     "output_type": "execute_result"
    },
    {
     "data": {
      "image/png": "[encoded data removed]",
      "text/plain": [
       "<Figure size 432x288 with 1 Axes>"
      ]
     },
     "metadata": {
      "needs_background": "light"
     },
     "output_type": "display_data"
    }
   ],
   "source": [
    "#Plots this data frame in a bar chart\n",
    "\n",
    "compare_to_average_2019_df.plot(kind = \"bar\", y = \"bust_percentage\", ylabel = \"Bust Percentage\", xlabel = \"Position\", title = \"Amount of Busts by Position for 2019\")"
   ]
  },
  {
   "cell_type": "code",
   "execution_count": 19,
   "metadata": {},
   "outputs": [
    {
     "data": {
      "text/plain": [
       "<matplotlib.legend.Legend at 0x7fe47c5b5e48>"
      ]
     },
     "execution_count": 19,
     "metadata": {},
     "output_type": "execute_result"
    },
    {
     "data": {
      "image/png": "[encoded data removed]",
      "text/plain": [
       "<Figure size 432x288 with 1 Axes>"
      ]
     },
     "metadata": {},
     "output_type": "display_data"
    }
   ],
   "source": [
    "#Plots this data frame in a pie chart\n",
    "\n",
    "compare_to_average_2019_df.plot(kind = \"pie\", y = \"bust_percentage\", title = \"Percentage of Busts by Position for 2019\", labels = compare_to_average_2019_df[\"bust_percentage\"])\n",
    "plt.legend([\"QB\", \"RB\", \"WR\", \"TE\"] ,loc=5)"
   ]
  },
  {
   "cell_type": "markdown",
   "metadata": {},
   "source": [
    "**Answer:**\n",
    "\n",
    "In the 2019 Fantasy Football year, top 25 predicted players had the most busts in the QB position, with 16 percent. This was followed by TEs with 16, WRs with 8 percent, and then TEs with 4 percent."
   ]
  },
  {
   "cell_type": "markdown",
   "metadata": {},
   "source": [
    "**Observations/Interpretations:**\n",
    "\n",
    "It is interesting to see that the greatest amount of busts came from the qb position. As we saw, from the previous charts experts were better at predicting WRs and RBs, which had the lowest bust percentage, while worst at QBs and TEs, which had the highest bust percentage. It seems as if these busts could cause them to be less accurate."
   ]
  },
  {
   "cell_type": "markdown",
   "metadata": {},
   "source": [
    "**Question 4:**\n",
    "\n",
    "How often were players did players in each position boom (scored significantly more than average)?"
   ]
  },
  {
   "cell_type": "markdown",
   "metadata": {},
   "source": [
    "**Steps:**\n",
    "\n",
    "A. Count player that scored more than 1 standard deviation from mean\n",
    "\n",
    "B. Find percentage\n",
    "\n",
    "E. Add this data to data frame\n",
    "\n",
    "F. Plot this data in charts"
   ]
  },
  {
   "cell_type": "code",
   "execution_count": 20,
   "metadata": {},
   "outputs": [],
   "source": [
    "#Count player that scored more than 1 standard deviation from mean\n",
    "\n",
    "qb_2019_above_mean = float(qb_2019_df[qb_2019_df[\"FantasyPoints\"] >= qb_2019_mean + qb_2019_mean/2].shape[0])\n",
    "rb_2019_above_mean = float(rb_2019_df[rb_2019_df[\"FantasyPoints\"] >= rb_2019_mean + rb_2019_mean/2].shape[0])\n",
    "wr_2019_above_mean = float(wr_2019_df[wr_2019_df[\"FantasyPoints\"] >= wr_2019_mean + wr_2019_mean/2].shape[0])\n",
    "te_2019_above_mean = float(te_2019_df[te_2019_df[\"FantasyPoints\"] >= te_2019_mean + te_2019_mean/2].shape[0])"
   ]
  },
  {
   "cell_type": "code",
   "execution_count": 21,
   "metadata": {},
   "outputs": [],
   "source": [
    "#Finds percentage\n",
    "\n",
    "qb_2019_above_mean_percentage = qb_2019_above_mean / 25.0 * 100\n",
    "rb_2019_above_mean_percentage = rb_2019_above_mean / 25.0 * 100\n",
    "wr_2019_above_mean_percentage = wr_2019_above_mean / 25.0 * 100\n",
    "te_2019_above_mean_percentage = te_2019_above_mean / 25.0 * 100"
   ]
  },
  {
   "cell_type": "code",
   "execution_count": 22,
   "metadata": {},
   "outputs": [
    {
     "data": {
      "text/html": [
       "<div>\n",
       "<style scoped>\n",
       "    .dataframe tbody tr th:only-of-type {\n",
       "        vertical-align: middle;\n",
       "    }\n",
       "\n",
       "    .dataframe tbody tr th {\n",
       "        vertical-align: top;\n",
       "    }\n",
       "\n",
       "    .dataframe thead th {\n",
       "        text-align: right;\n",
       "    }\n",
       "</style>\n",
       "<table border=\"1\" class=\"dataframe\">\n",
       "  <thead>\n",
       "    <tr style=\"text-align: right;\">\n",
       "      <th></th>\n",
       "      <th>bust_percentage</th>\n",
       "      <th>boom_percentage</th>\n",
       "    </tr>\n",
       "  </thead>\n",
       "  <tbody>\n",
       "    <tr>\n",
       "      <th>QB</th>\n",
       "      <td>16.0</td>\n",
       "      <td>4.0</td>\n",
       "    </tr>\n",
       "    <tr>\n",
       "      <th>RB</th>\n",
       "      <td>4.0</td>\n",
       "      <td>4.0</td>\n",
       "    </tr>\n",
       "    <tr>\n",
       "      <th>WR</th>\n",
       "      <td>8.0</td>\n",
       "      <td>4.0</td>\n",
       "    </tr>\n",
       "    <tr>\n",
       "      <th>TE</th>\n",
       "      <td>12.0</td>\n",
       "      <td>20.0</td>\n",
       "    </tr>\n",
       "  </tbody>\n",
       "</table>\n",
       "</div>"
      ],
      "text/plain": [
       "    bust_percentage  boom_percentage\n",
       "QB             16.0              4.0\n",
       "RB              4.0              4.0\n",
       "WR              8.0              4.0\n",
       "TE             12.0             20.0"
      ]
     },
     "execution_count": 22,
     "metadata": {},
     "output_type": "execute_result"
    }
   ],
   "source": [
    "#Add this data to data frame\n",
    "\n",
    "compare_to_average_2019_df[\"boom_percentage\"] = [qb_2019_above_mean_percentage, rb_2019_above_mean_percentage\n",
    "                                                 , wr_2019_above_mean_percentage, te_2019_above_mean_percentage]\n",
    "compare_to_average_2019_df"
   ]
  },
  {
   "cell_type": "code",
   "execution_count": 23,
   "metadata": {},
   "outputs": [
    {
     "data": {
      "text/plain": [
       "<AxesSubplot:title={'center':'Amount of Booms by Position for 2019'}, xlabel='Position', ylabel='Boom Percentage'>"
      ]
     },
     "execution_count": 23,
     "metadata": {},
     "output_type": "execute_result"
    },
    {
     "data": {
      "image/png": "[encoded data removed]",
      "text/plain": [
       "<Figure size 432x288 with 1 Axes>"
      ]
     },
     "metadata": {
      "needs_background": "light"
     },
     "output_type": "display_data"
    }
   ],
   "source": [
    "#Plots this data frame in a bar chart\n",
    "\n",
    "compare_to_average_2019_df.plot(kind = \"bar\", y = \"boom_percentage\", ylabel = \"Boom Percentage\", xlabel = \"Position\", title = \"Amount of Booms by Position for 2019\")"
   ]
  },
  {
   "cell_type": "code",
   "execution_count": 24,
   "metadata": {},
   "outputs": [
    {
     "data": {
      "text/plain": [
       "<matplotlib.legend.Legend at 0x7fe47c3cb4a8>"
      ]
     },
     "execution_count": 24,
     "metadata": {},
     "output_type": "execute_result"
    },
    {
     "data": {
      "image/png": "[encoded data removed]",
      "text/plain": [
       "<Figure size 432x288 with 1 Axes>"
      ]
     },
     "metadata": {},
     "output_type": "display_data"
    }
   ],
   "source": [
    "#Plots this data frame in a pie chart\n",
    "\n",
    "compare_to_average_2019_df.plot(kind = \"pie\", y = \"boom_percentage\", title = \"Percentage of Booms by Position for 2019\", labels = compare_to_average_2019_df[\"boom_percentage\"])\n",
    "plt.legend([\"QB\", \"RB\", \"WR\", \"TE\"] ,loc=5)"
   ]
  },
  {
   "cell_type": "markdown",
   "metadata": {},
   "source": [
    "**Answer:**\n",
    "\n",
    "In the 2019 Fantasy Football year, top 25 predicted players had the most booms in the tight end position, with 20 percent. All other positions had only 4%."
   ]
  },
  {
   "cell_type": "markdown",
   "metadata": {},
   "source": [
    "**Observations/Interpretations:**\n",
    "\n",
    "This could be another reasons why fans and experts had trouble predicting TEs. Some TEs scored significantly more than the mean, while this was very uncommon for other positions. For both booms and busts, TEs were high in percentage, making them more difficult to project."
   ]
  },
  {
   "cell_type": "markdown",
   "metadata": {},
   "source": [
    "**Question 5:**\n",
    "\n",
    "Did experts and fans tend to agree on who they believed the top 5 picks should be?"
   ]
  },
  {
   "cell_type": "code",
   "execution_count": 25,
   "metadata": {},
   "outputs": [],
   "source": [
    "#Creates dataframes by position of the top 25 predicted players\n",
    "\n",
    "wr_top5_2019_df = merged_2019_df[merged_2019_df[\"Pos\"].str.contains(\"WR\")].sort_values(by=['ADP_rerank']).iloc[:5]\n",
    "rb_top5_2019_df = merged_2019_df[merged_2019_df[\"Pos\"].str.contains(\"RB\")].sort_values(by=['ADP_rerank']).iloc[:5]\n",
    "qb_top5_2019_df = merged_2019_df[merged_2019_df[\"Pos\"].str.contains(\"QB\")].sort_values(by=['ADP_rerank']).iloc[:5]\n",
    "te_top5_2019_df = merged_2019_df[merged_2019_df[\"Pos\"].str.contains(\"TE\")].sort_values(by=['ADP_rerank']).iloc[:5]"
   ]
  },
  {
   "cell_type": "code",
   "execution_count": 26,
   "metadata": {},
   "outputs": [],
   "source": [
    "#Correlate FantasyPoints, ExpertRanking and the reranked ADP\n",
    "\n",
    "qb_corr_top5_2019_df = qb_top5_2019_df[[\"ExpertRanking\", 'ADP_rerank']].corr().abs()\n",
    "rb_corr_top5_2019_df = rb_top5_2019_df[[\"ExpertRanking\", 'ADP_rerank']].corr().abs()\n",
    "wr_corr_top5_2019_df = wr_top5_2019_df[[\"ExpertRanking\", 'ADP_rerank']].corr().abs()\n",
    "te_corr_top5_2019_df = te_top5_2019_df[[\"ExpertRanking\", 'ADP_rerank']].corr().abs()"
   ]
  },
  {
   "cell_type": "code",
   "execution_count": 27,
   "metadata": {},
   "outputs": [
    {
     "data": {
      "text/html": [
       "<div>\n",
       "<style scoped>\n",
       "    .dataframe tbody tr th:only-of-type {\n",
       "        vertical-align: middle;\n",
       "    }\n",
       "\n",
       "    .dataframe tbody tr th {\n",
       "        vertical-align: top;\n",
       "    }\n",
       "\n",
       "    .dataframe thead th {\n",
       "        text-align: right;\n",
       "    }\n",
       "</style>\n",
       "<table border=\"1\" class=\"dataframe\">\n",
       "  <thead>\n",
       "    <tr style=\"text-align: right;\">\n",
       "      <th></th>\n",
       "      <th>correlation</th>\n",
       "    </tr>\n",
       "  </thead>\n",
       "  <tbody>\n",
       "    <tr>\n",
       "      <th>QB</th>\n",
       "      <td>0.968731</td>\n",
       "    </tr>\n",
       "    <tr>\n",
       "      <th>RB</th>\n",
       "      <td>0.911751</td>\n",
       "    </tr>\n",
       "    <tr>\n",
       "      <th>WR</th>\n",
       "      <td>0.905068</td>\n",
       "    </tr>\n",
       "    <tr>\n",
       "      <th>TE</th>\n",
       "      <td>0.960887</td>\n",
       "    </tr>\n",
       "  </tbody>\n",
       "</table>\n",
       "</div>"
      ],
      "text/plain": [
       "    correlation\n",
       "QB     0.968731\n",
       "RB     0.911751\n",
       "WR     0.905068\n",
       "TE     0.960887"
      ]
     },
     "execution_count": 27,
     "metadata": {},
     "output_type": "execute_result"
    }
   ],
   "source": [
    "#Creates dataframe for correlations\n",
    "\n",
    "corr_top5_2019_data = {'correlation':[qb_corr_2019_df[\"ExpertRanking\"][\"ADP_rerank\"], \n",
    "        rb_corr_2019_df[\"ExpertRanking\"][\"ADP_rerank\"], wr_corr_2019_df[\"ExpertRanking\"][\"ADP_rerank\"], \n",
    "        te_corr_2019_df[\"ExpertRanking\"][\"ADP_rerank\"]]}\n",
    "\n",
    "combined_corr_top5_2019_df = pd.DataFrame(corr_top5_2019_data, index =['QB', 'RB', 'WR', 'TE']) \n",
    "combined_corr_top5_2019_df"
   ]
  },
  {
   "cell_type": "code",
   "execution_count": 28,
   "metadata": {},
   "outputs": [
    {
     "data": {
      "text/plain": [
       "<AxesSubplot:title={'center':'Correlation Between Expert and Fan Top 5 Picks for 2019'}, xlabel='Position', ylabel='Correlation'>"
      ]
     },
     "execution_count": 28,
     "metadata": {},
     "output_type": "execute_result"
    },
    {
     "data": {
      "image/png": "[encoded data removed]",
      "text/plain": [
       "<Figure size 432x288 with 1 Axes>"
      ]
     },
     "metadata": {
      "needs_background": "light"
     },
     "output_type": "display_data"
    }
   ],
   "source": [
    "combined_corr_top5_2019_df.plot(kind = \"bar\", ylabel = \"Correlation\", xlabel = \"Position\", title = \"Correlation Between Expert and Fan Top 5 Picks for 2019\")"
   ]
  },
  {
   "cell_type": "markdown",
   "metadata": {},
   "source": [
    "**Answer:**\n",
    "\n",
    "All positions had a high correlation between fans and experts with the QB position at the highest with .97, and WR position the lowest with .91."
   ]
  },
  {
   "cell_type": "markdown",
   "metadata": {},
   "source": [
    "**Observations/Interpretations:**\n",
    "\n",
    "The experts and fans tend to agree highly when it comes to the first few picks in each position. It seems as if the predictions become more disagreeable further into the fantasy drafts. Based on the data from this year, it seems to not matter too much who you follow for the first few picks as they are very similar, but the experts make the more accurate picks for the later players."
   ]
  }
 ],
 "metadata": {
  "kernelspec": {
   "display_name": "Python 3",
   "language": "python",
   "name": "python3"
  },
  "language_info": {
   "codemirror_mode": {
    "name": "ipython",
    "version": 3
   },
   "file_extension": ".py",
   "mimetype": "text/x-python",
   "name": "python",
   "nbconvert_exporter": "python",
   "pygments_lexer": "ipython3",
   "version": "3.7.3"
  }
 },
 "nbformat": 4,
 "nbformat_minor": 2
}
